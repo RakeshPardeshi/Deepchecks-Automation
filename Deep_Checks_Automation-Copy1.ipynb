{
 "cells": [
  {
   "cell_type": "code",
   "execution_count": null,
   "id": "2d304ccf-6e9b-4701-be9d-bc5ab15670fa",
   "metadata": {},
   "outputs": [],
   "source": []
  },
  {
   "cell_type": "code",
   "execution_count": null,
   "id": "333fff95-a654-40c5-8427-fffbd477c094",
   "metadata": {},
   "outputs": [],
   "source": []
  },
  {
   "cell_type": "code",
   "execution_count": 1,
   "id": "2bcc5545-b09b-49e0-bc2c-0cdecb4eb884",
   "metadata": {},
   "outputs": [
    {
     "name": "stderr",
     "output_type": "stream",
     "text": [
      "deepchecks - WARNING - You are using deepchecks version 0.19.0, however a newer version is available. Deepchecks is frequently updated with major improvements. You should consider upgrading via the \"python -m pip install --upgrade deepchecks\" command.\n"
     ]
    }
   ],
   "source": [
    "from data_integrity import *"
   ]
  },
  {
   "cell_type": "code",
   "execution_count": 2,
   "id": "43526c2c-5afb-4530-8607-f417b769d208",
   "metadata": {},
   "outputs": [],
   "source": [
    "train_path = \"train.csv\"\n",
    "test_path = \"test.csv\"\n",
    "label = \"label\"\n",
    "#model_file = \"model.pkl\"\n",
    "#prediction_label_column = \"\""
   ]
  },
  {
   "cell_type": "code",
   "execution_count": 3,
   "id": "2c692739-c51f-40c1-b719-ca70482082db",
   "metadata": {},
   "outputs": [
    {
     "name": "stdout",
     "output_type": "stream",
     "text": [
      "\n",
      "Available Data Integrity Checks:\n",
      "1. Is Single Value\n",
      "2. Special Characters\n",
      "3. Mixed Nulls\n",
      "4. Mixed Data Types\n",
      "5. String Mismatch\n",
      "6. Data Duplicates\n",
      "7. String Length Out Of Bounds\n",
      "8. Conflicting Labels\n",
      "9. Outlier Sample Detection\n",
      "10. Feature Label Correlation\n",
      "11. Feature Feature Correlation\n",
      "12. Identifier Label Correlation\n"
     ]
    }
   ],
   "source": [
    "# Display available checks\n",
    "print(\"\\nAvailable Data Integrity Checks:\")\n",
    "for i, test in enumerate(check_options.keys()):\n",
    "    print(f\"{i + 1}. {test}\")"
   ]
  },
  {
   "cell_type": "code",
   "execution_count": 4,
   "id": "5a9cba29-8a58-4050-9ea4-3eadbc1887db",
   "metadata": {},
   "outputs": [
    {
     "name": "stdin",
     "output_type": "stream",
     "text": [
      "Enter check numbers to run (comma-separated, e.g., 1,3,5):  1,2\n"
     ]
    },
    {
     "data": {
      "text/plain": [
       "['Is Single Value', 'Special Characters']"
      ]
     },
     "execution_count": 4,
     "metadata": {},
     "output_type": "execute_result"
    }
   ],
   "source": [
    "# User selects which checks to run\n",
    "selected_indices = input(\"Enter check numbers to run (comma-separated, e.g., 1,3,5): \")\n",
    "selected_indices = [int(idx.strip()) - 1 for idx in selected_indices.split(',') if idx.strip().isdigit()]\n",
    "\n",
    "# Map indices to selected check names\n",
    "selected_tests = [list(check_options.keys())[i] for i in selected_indices]\n",
    "selected_tests"
   ]
  },
  {
   "cell_type": "code",
   "execution_count": 5,
   "id": "6bf0d892-830d-4229-8986-0d1a743de015",
   "metadata": {},
   "outputs": [],
   "source": [
    "# Data Integirty checks that require user input\n",
    "checks_with_params = {\n",
    "    \"Special Characters\": {\"max_ratio\":0.001}, #\n",
    "    \"Mixed Nulls\": {\"max_allowed_null_types\": 1}, #\n",
    "    \"Mixed Data Types\": {\"ratio_range\": (0.01, 0.1)}, #\n",
    "    \"String Mismatch\": {\"num_max_variants\": 5}, #\n",
    "    \"Data Duplicates\": {\"max_ratio\": 0.05}, #\n",
    "    \"String Length Out Of Bounds\": {\"max_outliers\":0}, #\n",
    "    \"Conflicting Labels\": {\"max_ratio\":0.0}, #\n",
    "    \"Outlier Sample Detection\": {\"max_outliers_ratio\": 0.1, \"outlier_score_threshold\": 5}, #\n",
    "    \"Feature Label Correlation\": {\"threshold\": 0.8}, #\n",
    "    \"Feature Feature Correlation\": {\"threshold\": 0.6}, #\n",
    "    \"Identifier Label Correlation\": {\"max_pps\": 0}, #\n",
    "    \n",
    "}\n",
    "\n"
   ]
  },
  {
   "cell_type": "code",
   "execution_count": 6,
   "id": "2a034ae5-1486-4489-a3ba-06d18141311c",
   "metadata": {},
   "outputs": [
    {
     "name": "stderr",
     "output_type": "stream",
     "text": [
      "deepchecks - WARNING - It is recommended to initialize Dataset with categorical features by doing \"Dataset(df, cat_features=categorical_list)\". No categorical features were passed, therefore heuristically inferring categorical features in the data. 2 categorical features were inferred.: feature3, predicted_label\n",
      "deepchecks - WARNING - It is recommended to initialize Dataset with categorical features by doing \"Dataset(df, cat_features=categorical_list)\". No categorical features were passed, therefore heuristically inferring categorical features in the data. 2 categorical features were inferred.: feature3, predicted_label\n"
     ]
    },
    {
     "name": "stdout",
     "output_type": "stream",
     "text": [
      "Loading data...\n",
      "Loaded train.csv with shape: (1000, 6)\n",
      "Loaded test.csv with shape: (1000, 6)\n"
     ]
    },
    {
     "data": {
      "text/html": [
       "\n",
       "    <style>\n",
       "        progress {\n",
       "            -webkit-appearance: none;\n",
       "            border: none;\n",
       "            border-radius: 3px;\n",
       "            width: 300px;\n",
       "            height: 20px;\n",
       "            vertical-align: middle;\n",
       "            margin-right: 10px;\n",
       "            background-color: aliceblue;\n",
       "        }\n",
       "        progress::-webkit-progress-bar {\n",
       "            border-radius: 3px;\n",
       "            background-color: aliceblue;\n",
       "        }\n",
       "        progress::-webkit-progress-value {\n",
       "            background-color: #9d60fb;\n",
       "        }\n",
       "        progress::-moz-progress-bar {\n",
       "            background-color: #9d60fb;\n",
       "        }\n",
       "    </style>\n",
       "    "
      ]
     },
     "metadata": {},
     "output_type": "display_data"
    },
    {
     "data": {
      "text/html": []
     },
     "metadata": {},
     "output_type": "display_data"
    },
    {
     "data": {
      "application/vnd.jupyter.widget-view+json": {
       "model_id": "f4b9c89e347b42b18722afffef4f2340",
       "version_major": 2,
       "version_minor": 0
      },
      "text/plain": [
       "Accordion(children=(VBox(children=(HTML(value='\\n<h1 id=\"summary_PBCR8Z9PU9VG0QBYP0WA1ULDM\">Custom Data Integr…"
      ]
     },
     "metadata": {},
     "output_type": "display_data"
    }
   ],
   "source": [
    "print(\"Loading data...\")\n",
    "train_df = load_csv(train_path)\n",
    "test_df = load_csv(test_path)    \n",
    "# Load or create a sample dataset\n",
    "run_data_integrity(train_df, test_df, label, selected_tests, checks_with_params)"
   ]
  },
  {
   "cell_type": "code",
   "execution_count": null,
   "id": "4f33e723-8426-4ed7-bd74-454a9ffc4995",
   "metadata": {},
   "outputs": [],
   "source": []
  },
  {
   "cell_type": "code",
   "execution_count": null,
   "id": "692a2347-f068-4f3b-98de-d8dc6b389ec0",
   "metadata": {},
   "outputs": [],
   "source": []
  },
  {
   "cell_type": "code",
   "execution_count": null,
   "id": "daeee1ea-17a1-4eef-87f9-12b5f9e05ba2",
   "metadata": {},
   "outputs": [],
   "source": []
  },
  {
   "cell_type": "code",
   "execution_count": null,
   "id": "24f106e8-f676-45e5-bd56-53e339152d04",
   "metadata": {},
   "outputs": [],
   "source": []
  },
  {
   "cell_type": "code",
   "execution_count": null,
   "id": "0769831e-6810-4642-a178-79c8de8c031f",
   "metadata": {},
   "outputs": [],
   "source": []
  },
  {
   "cell_type": "code",
   "execution_count": null,
   "id": "1dd99798-4c61-4336-9843-76456e8c404d",
   "metadata": {},
   "outputs": [],
   "source": []
  },
  {
   "cell_type": "code",
   "execution_count": null,
   "id": "4c1e4fca-9b46-4781-a9fd-a33ad0a139c7",
   "metadata": {},
   "outputs": [],
   "source": []
  },
  {
   "cell_type": "code",
   "execution_count": null,
   "id": "3e0bcb2e-86e6-4a09-84f1-e8607a1c6406",
   "metadata": {},
   "outputs": [],
   "source": [
    "import deepchecks\n",
    "import pandas as pd\n",
    "from deepchecks.tabular import Suite\n",
    "from deepchecks.tabular import Dataset\n",
    "from deepchecks.tabular.checks import (\n",
    "    IsSingleValue, SpecialCharacters, MixedNulls, MixedDataTypes, StringMismatch, DataDuplicates,\n",
    "    StringLengthOutOfBounds, ConflictingLabels, OutlierSampleDetection, FeatureLabelCorrelation,\n",
    "    FeatureFeatureCorrelation, IdentifierLabelCorrelation\n",
    ")\n",
    "\n",
    "# Define available checks (without parameters)\n",
    "check_options = {\n",
    "    \"Is Single Value\": IsSingleValue(),\n",
    "    \"Special Characters\": SpecialCharacters(),\n",
    "    \"Mixed Nulls\": MixedNulls(),\n",
    "    \"Mixed Data Types\": MixedDataTypes(),\n",
    "    \"String Mismatch\": StringMismatch(),  # Needs parameter\n",
    "    \"Data Duplicates\": DataDuplicates(),\n",
    "    \"String Length Out Of Bounds\": StringLengthOutOfBounds(),\n",
    "    \"Conflicting Labels\": ConflictingLabels(),\n",
    "    \"Outlier Sample Detection\": OutlierSampleDetection(),  # Needs parameter\n",
    "    \"Feature Label Correlation\": FeatureLabelCorrelation(),\n",
    "    \"Feature Feature Correlation\": FeatureFeatureCorrelation(),  # Needs parameter\n",
    "    \"Identifier Label Correlation\": IdentifierLabelCorrelation()\n",
    "}\n",
    "\n",
    "\n",
    "def run_deepchecks(data1, data2, selected_tests=selected_tests, label=None):\n",
    "    \"\"\"Run selected deepchecks data integrity tests on the given dataset.\"\"\"\n",
    "    dataset1 = Dataset(data1, label=label)\n",
    "    dataset2 = Dataset(data2, label=label)\n",
    "        \n",
    "    # Create selected checks with conditions where applicable\n",
    "    selected_checks = []\n",
    "    for test in selected_tests:\n",
    "        if test == \"String Mismatch\":\n",
    "            check = StringMismatch().add_condition_number_variants_less_or_equal(**checks_with_params[test])\n",
    "        elif test == \"Outlier Sample Detection\":\n",
    "            ignore_columns = []\n",
    "            if label is not None:\n",
    "                ignore_columns.append(label)\n",
    "            check = OutlierSampleDetection(ignore_columns = [label]).add_condition_outlier_ratio_less_or_equal(**checks_with_params[test])\n",
    "        elif test == \"Feature Feature Correlation\":\n",
    "            check = FeatureFeatureCorrelation().add_condition_max_number_of_pairs_above_threshold(**checks_with_params[test],  \n",
    "                n_pairs = 0)\n",
    "        elif test == \"Is Single Value\":\n",
    "            check = IsSingleValue().add_condition_not_single_value()\n",
    "        elif test == \"Special Characters\":\n",
    "            check = SpecialCharacters().add_condition_ratio_of_special_characters_less_or_equal(**checks_with_params[test])   \n",
    "        elif test == \"Mixed Nulls\":\n",
    "            check = MixedNulls().add_condition_different_nulls_less_equal_to(**checks_with_params[test])\n",
    "        elif test == \"Mixed Data Types\":\n",
    "            check = MixedDataTypes().add_condition_rare_type_ratio_not_in_range(**checks_with_params[test])\n",
    "        elif test == \"Data Duplicates\":\n",
    "            check = DataDuplicates().add_condition_ratio_less_or_equal(**checks_with_params[test])\n",
    "        elif test == \"Conflicting Labels\":\n",
    "            print(test)\n",
    "            check = ConflictingLabels().add_condition_ratio_of_conflicting_labels_less_or_equal(**checks_with_params[test])\n",
    "        elif test == \"Feature Label Correlation\":\n",
    "            check = FeatureLabelCorrelation().add_condition_feature_pps_less_than(**checks_with_params[test])\n",
    "        elif test == \"Identifier Label Correlation\":\n",
    "            check = IdentifierLabelCorrelation().add_condition_pps_less_or_equal(**checks_with_params[test])\n",
    "        elif test == \"String Length Out Of Bounds\":\n",
    "            check = StringLengthOutOfBounds().add_condition_number_of_outliers_less_or_equal(**checks_with_params[test])\n",
    "        else:\n",
    "            check = check_options[test]\n",
    "\n",
    "        selected_checks.append(check)\n",
    "    \n",
    "    # Create and run suite\n",
    "    suite = Suite(\"Custom Data Integrity Suite\", *selected_checks)\n",
    "    result = suite.run(dataset1, dataset2)\n",
    "\n",
    "    # Show results\n",
    "    result.show()\n",
    "    result.save_as_html('data_integrity_results.html')\n",
    "    return result\n",
    "\n",
    "\n",
    "def load_csv(file_path):\n",
    "    \"\"\"Load CSV file into a Pandas DataFrame.\"\"\"\n",
    "    try:\n",
    "        df = pd.read_csv(file_path)\n",
    "        if df.empty:\n",
    "            raise ValueError(\"Uploaded file is empty.\")\n",
    "        print(f\"Loaded {file_path} with shape: {df.shape}\")\n",
    "        return df\n",
    "    except Exception as e:\n",
    "        print(f\"Error loading {file_path}: {e}\")\n",
    "        return None\n",
    "\n",
    "\n"
   ]
  },
  {
   "cell_type": "code",
   "execution_count": null,
   "id": "cb7573c5-8fa9-4b16-9f0a-f7b57210cabf",
   "metadata": {},
   "outputs": [],
   "source": [
    "train_df = load_csv(train_path)\n",
    "test_df = load_csv(test_path) \n",
    "\n",
    "dataset1 = Dataset(train_df, label=label)\n",
    "dataset2 = Dataset(test_df, label=label)\n",
    "\n",
    "\n",
    "from deepchecks.tabular.suites import data_integrity\n",
    "suite = data_integrity()\n",
    "result = suite.run(dataset1, dataset2)\n",
    "result.show()"
   ]
  },
  {
   "cell_type": "markdown",
   "id": "e6a8fa98-79c4-4e04-a6c3-6bbdf70900bc",
   "metadata": {},
   "source": [
    "####################################################################################################################\n",
    "####################################################################################################################\n",
    "####################################################################################################################\n",
    "####################################################################################################################\n",
    "####################################################################################################################\n",
    "####################################################################################################################\n",
    "####################################################################################################################\n",
    "####################################################################################################################\n",
    "####################################################################################################################\n",
    "####################################################################################################################\n",
    "####################################################################################################################\n",
    "####################################################################################################################"
   ]
  },
  {
   "cell_type": "code",
   "execution_count": null,
   "id": "aaa7c29c-5b9a-4774-9099-f889ed652dd8",
   "metadata": {},
   "outputs": [],
   "source": [
    "You are an expert python programmer. Create an UI in python as per following instructions\n",
    "1. Select the test from check_options and print the list of selected options\n",
    "2. Based on selection of check_options, provide the parameter box for parameters defined in checks_with_params\n",
    "3. Based on input provided by user, print the selection in dictionary format\n",
    "\n",
    "# Define available checks (without parameters)\n",
    "check_options = {\n",
    "    \"String Mismatch Comparison\": StringMismatchComparison(),\n",
    "    \"Train Test Samples Mix\": TrainTestSamplesMix(),\n",
    "    \"New Label Train Test\": NewLabelTrainTest(),\n",
    "    \"New Category Train Test\": NewCategoryTrainTest(),\n",
    "    \"Label Drift\": LabelDrift(), \n",
    "    \"Feature Drift\": FeatureDrift(),\n",
    "}\n",
    "\n",
    "# Checks that require user input parameters\n",
    "checks_with_params = { \n",
    "    \"Train Test Samples Mix\": {\"max_ratio\": 0.05},\n",
    "    \"New Label Train Test\": {\"max_new\": 0},\n",
    "    \"New Category Train Test\": {\"max_new\": 0},\n",
    "    \"Label Drift\": {\"max_allowed_drift_score\": 0.15},\n",
    "    \"Feature Drift\": {\"max_allowed_categorical_score\": 0.2, \"max_allowed_numeric_score\": 0.2, \"allowed_num_features_exceeding_threshold\": 0},    \n",
    "}"
   ]
  },
  {
   "cell_type": "code",
   "execution_count": null,
   "id": "8a325d8e-9571-44b4-be6f-6e929450a3d2",
   "metadata": {},
   "outputs": [],
   "source": []
  },
  {
   "cell_type": "code",
   "execution_count": null,
   "id": "7a4144fd-5047-4d7c-84e2-eb606d758c9c",
   "metadata": {},
   "outputs": [],
   "source": []
  },
  {
   "cell_type": "code",
   "execution_count": null,
   "id": "f25f8fb4-084b-4294-b434-a56e7ba513fb",
   "metadata": {},
   "outputs": [],
   "source": []
  },
  {
   "cell_type": "code",
   "execution_count": null,
   "id": "a11c487c-5f9c-43b0-9e3d-601e1b05adbb",
   "metadata": {},
   "outputs": [],
   "source": []
  },
  {
   "cell_type": "code",
   "execution_count": null,
   "id": "74a1afe4-83a0-4c5a-8e6b-17830ad0e6d6",
   "metadata": {},
   "outputs": [],
   "source": []
  },
  {
   "cell_type": "code",
   "execution_count": null,
   "id": "7d60167d-150d-4652-9e6d-1e70d12bbb81",
   "metadata": {},
   "outputs": [],
   "source": []
  },
  {
   "cell_type": "code",
   "execution_count": null,
   "id": "7e4986df-abe0-490e-8ffc-96a132f8ad71",
   "metadata": {},
   "outputs": [],
   "source": []
  },
  {
   "cell_type": "code",
   "execution_count": null,
   "id": "cd07ae39-b0a7-4ea9-be96-df29e94865d7",
   "metadata": {},
   "outputs": [],
   "source": []
  },
  {
   "cell_type": "code",
   "execution_count": null,
   "id": "e4899f94-508a-4c53-9889-10221a6db1b4",
   "metadata": {},
   "outputs": [],
   "source": []
  },
  {
   "cell_type": "code",
   "execution_count": null,
   "id": "b0016ebd-0d2a-4c14-9e38-f818b499442a",
   "metadata": {},
   "outputs": [],
   "source": []
  },
  {
   "cell_type": "code",
   "execution_count": null,
   "id": "a1e0ce6b-46bf-4c9d-9cec-67559bf7e873",
   "metadata": {},
   "outputs": [],
   "source": []
  },
  {
   "cell_type": "code",
   "execution_count": null,
   "id": "5de82d2d-f44e-4eb4-a177-109d0de0953a",
   "metadata": {},
   "outputs": [],
   "source": []
  },
  {
   "cell_type": "code",
   "execution_count": null,
   "id": "e555e18c-f253-4419-a3e2-1db1b63e3058",
   "metadata": {},
   "outputs": [],
   "source": []
  },
  {
   "cell_type": "code",
   "execution_count": null,
   "id": "cb3819d9-68c3-4521-ba13-2186c292fa0e",
   "metadata": {},
   "outputs": [],
   "source": []
  }
 ],
 "metadata": {
  "kernelspec": {
   "display_name": "Python 3 (ipykernel)",
   "language": "python",
   "name": "python3"
  },
  "language_info": {
   "codemirror_mode": {
    "name": "ipython",
    "version": 3
   },
   "file_extension": ".py",
   "mimetype": "text/x-python",
   "name": "python",
   "nbconvert_exporter": "python",
   "pygments_lexer": "ipython3",
   "version": "3.9.12"
  }
 },
 "nbformat": 4,
 "nbformat_minor": 5
}
