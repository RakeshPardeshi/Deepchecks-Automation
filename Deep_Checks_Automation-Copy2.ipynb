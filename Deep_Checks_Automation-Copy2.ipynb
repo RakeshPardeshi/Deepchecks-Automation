{
 "cells": [
  {
   "cell_type": "code",
   "execution_count": 1,
   "id": "2bcc5545-b09b-49e0-bc2c-0cdecb4eb884",
   "metadata": {},
   "outputs": [
    {
     "name": "stderr",
     "output_type": "stream",
     "text": [
      "deepchecks - WARNING - You are using deepchecks version 0.19.0, however a newer version is available. Deepchecks is frequently updated with major improvements. You should consider upgrading via the \"python -m pip install --upgrade deepchecks\" command.\n"
     ]
    }
   ],
   "source": [
    "from data_integrity_eval import *\n",
    "from train_test_eval import *\n",
    "from model_eval import *\n"
   ]
  },
  {
   "cell_type": "code",
   "execution_count": 2,
   "id": "43526c2c-5afb-4530-8607-f417b769d208",
   "metadata": {},
   "outputs": [
    {
     "data": {
      "text/plain": [
       "False"
      ]
     },
     "execution_count": 2,
     "metadata": {},
     "output_type": "execute_result"
    }
   ],
   "source": [
    "train_path = \"train.csv\"\n",
    "test_path = \"test.csv\"\n",
    "label = \"label\"\n",
    "model_file = \"model.pkl\"\n",
    "prediction_label_column = \"predicted_label\"\n",
    "prediction_proba_col = \"predicted_probability\"\n",
    "isinstance(prediction_proba_col, list)\n",
    "\n",
    "#if not isinstance(prediction_proba_col, list): \n",
    "#    y_proba_train = np.vstack([1 - data1[prediction_proba_col].values, data1[prediction_proba_col].values]) \n",
    "#    y_proba_test = np.vstack([1 - data2[prediction_proba_col].values, data2[prediction_proba_col].values])\n"
   ]
  },
  {
   "cell_type": "code",
   "execution_count": 3,
   "id": "33761afb-5b73-47de-9f25-da4f2e87da2d",
   "metadata": {},
   "outputs": [],
   "source": [
    "#def load_model_from_pickle(filepath='model.pkl'):\n",
    " #   \"\"\"Load a trained model from a pickle file.\"\"\"\n",
    "  #  with open(filepath, 'rb') as file:\n",
    "   #     model = pickle.load(file)\n",
    "    #print(f\"Model loaded from {filepath}\")\n",
    "    #return model\n",
    "\n",
    "#feat_list = trained_model.feature_names_in_\n",
    "#feat_list = list(trained_model.feature_names_in_)\n",
    "        \n",
    "#trained_model = load_model_from_pickle(filepath=model_file)\n",
    "#y_pred_train = trained_model.predict_proba(train_df[feat_list])\n",
    "#y_pred_train"
   ]
  },
  {
   "cell_type": "markdown",
   "id": "fb5f3ad0-7e6d-4cec-b921-fc7490be19f4",
   "metadata": {},
   "source": [
    "### Available Data Integrity Checks:"
   ]
  },
  {
   "cell_type": "code",
   "execution_count": 4,
   "id": "5a9cba29-8a58-4050-9ea4-3eadbc1887db",
   "metadata": {},
   "outputs": [],
   "source": [
    "# Selection of Data Integirty checks that require user input\n",
    "data_integrity_params = {\n",
    "    \"Is Single Value\": {},\n",
    "    #\"Special Characters\": {\"max_ratio\":0.001}, \n",
    "    \"Mixed Nulls\": {\"max_allowed_null_types\": 1}, #\n",
    "    \"Mixed Data Types\": {\"ratio_range\": (0.01, 0.1)}, \n",
    "    \"String Mismatch\": {\"num_max_variants\": 5}, \n",
    "    \"Data Duplicates\": {\"max_ratio\": 0.05}, \n",
    "    \"String Length Out Of Bounds\": {\"max_outliers\":0}, \n",
    "    \"Conflicting Labels\": {\"max_ratio\":0.0}, \n",
    "    \"Outlier Sample Detection\": {\"max_outliers_ratio\": 0.1, \"outlier_score_threshold\": 5}, \n",
    "    #\"Feature Label Correlation\": {\"threshold\": 0.8}, \n",
    "    #\"Feature Feature Correlation\": {\"threshold\": 0.6}, \n",
    "    \"Identifier Label Correlation\": {\"max_pps\": 0}, \n",
    "    \n",
    "}\n"
   ]
  },
  {
   "cell_type": "markdown",
   "id": "0145a4e1-3bde-4f1e-886d-4c0e7a47fb50",
   "metadata": {},
   "source": [
    "### Available Train Test Checks:"
   ]
  },
  {
   "cell_type": "code",
   "execution_count": 5,
   "id": "6bf0d892-830d-4229-8986-0d1a743de015",
   "metadata": {},
   "outputs": [],
   "source": [
    "train_test_params = { \n",
    "    \"String Mismatch Comparison\": {},\n",
    "    \"Train Test Samples Mix\": {\"max_ratio\": 0.05},\n",
    "    \"New Label Train Test\": {\"max_new\": 0},\n",
    "    \"New Category Train Test\": {\"max_new\": 0},\n",
    "    \"Label Drift\": {\"max_allowed_drift_score\": 0.15},\n",
    "    \"Feature Drift\": {\"max_allowed_categorical_score\": 0.2, \"max_allowed_numeric_score\": 0.2, \"allowed_num_features_exceeding_threshold\": 0},    \n",
    "}\n"
   ]
  },
  {
   "cell_type": "markdown",
   "id": "cab3ac01-83f7-48e2-974b-cff89ce11ad2",
   "metadata": {},
   "source": [
    "### Available Model Evaluation Checks:"
   ]
  },
  {
   "cell_type": "code",
   "execution_count": 6,
   "id": "718e62c7-037d-460d-85a2-745e5e6e6110",
   "metadata": {},
   "outputs": [],
   "source": [
    "model_eval_params = {\n",
    "    #\"Train Test Performance\": {\"min_score\": 0.70},\n",
    "    #\"Roc Report\": {\"min_auc\": 0.70},\n",
    "    #\"Simple Model Comparison\": {},\n",
    "    \"Confusion Matrix Report\": {},\n",
    "    \"Unused Features\": {\"max_high_variance_unused_features\": 1},\n",
    "    \"Weak Segments Performance\": {\"max_ratio_change\": 0.20},\n",
    "    \"Prediction Drift\": {\"max_allowed_drift_score\": 0.30},\n",
    "    \"Boosting Overfit\": {\"threshold\": 0.05},\n",
    "}\n"
   ]
  },
  {
   "cell_type": "code",
   "execution_count": 7,
   "id": "1340f7d5-38fc-4da2-be7a-93101b3a70c4",
   "metadata": {},
   "outputs": [],
   "source": [
    "data_integrity_checks = list(data_integrity_params.keys())\n",
    "train_test_checks = list(train_test_params.keys())\n",
    "model_eval_checks = list(model_eval_params.keys())\n",
    "#data_integrity_checks, train_test_checks, model_eval_checks"
   ]
  },
  {
   "cell_type": "code",
   "execution_count": 8,
   "id": "2a034ae5-1486-4489-a3ba-06d18141311c",
   "metadata": {},
   "outputs": [
    {
     "name": "stdout",
     "output_type": "stream",
     "text": [
      "Loading data...\n",
      "Loaded train.csv with shape: (1000, 6)\n",
      "Loaded test.csv with shape: (1000, 6)\n"
     ]
    }
   ],
   "source": [
    "print(\"Loading data...\")\n",
    "train_df = load_csv(train_path)\n",
    "test_df = load_csv(test_path)    "
   ]
  },
  {
   "cell_type": "code",
   "execution_count": 9,
   "id": "f7c09e56-c251-43f4-ac7a-930396da853e",
   "metadata": {},
   "outputs": [],
   "source": [
    "#run_data_integrity(train_df, test_df, label, data_integrity_checks, data_integrity_params)"
   ]
  },
  {
   "cell_type": "code",
   "execution_count": 10,
   "id": "c7f82c5a",
   "metadata": {},
   "outputs": [],
   "source": [
    "#run_train_test(train_df, test_df, label, train_test_checks, train_test_params)"
   ]
  },
  {
   "cell_type": "code",
   "execution_count": 11,
   "id": "4f33e723-8426-4ed7-bd74-454a9ffc4995",
   "metadata": {
    "scrolled": true
   },
   "outputs": [
    {
     "name": "stderr",
     "output_type": "stream",
     "text": [
      "deepchecks - WARNING - It is recommended to initialize Dataset with categorical features by doing \"Dataset(df, cat_features=categorical_list)\". No categorical features were passed, therefore heuristically inferring categorical features in the data. 1 categorical features were inferred.: feature3\n",
      "deepchecks - WARNING - It is recommended to initialize Dataset with categorical features by doing \"Dataset(df, cat_features=categorical_list)\". No categorical features were passed, therefore heuristically inferring categorical features in the data. 1 categorical features were inferred.: feature3\n",
      "deepchecks - WARNING - train and test datasets have common index - adding \"train\"/\"test\" prefixes. To avoid that provide datasets with no common indexes or pass the model object instead of the predictions.\n"
     ]
    },
    {
     "name": "stdout",
     "output_type": "stream",
     "text": [
      "Model loaded from model.pkl\n"
     ]
    },
    {
     "data": {
      "text/html": [
       "\n",
       "    <style>\n",
       "        progress {\n",
       "            -webkit-appearance: none;\n",
       "            border: none;\n",
       "            border-radius: 3px;\n",
       "            width: 300px;\n",
       "            height: 20px;\n",
       "            vertical-align: middle;\n",
       "            margin-right: 10px;\n",
       "            background-color: aliceblue;\n",
       "        }\n",
       "        progress::-webkit-progress-bar {\n",
       "            border-radius: 3px;\n",
       "            background-color: aliceblue;\n",
       "        }\n",
       "        progress::-webkit-progress-value {\n",
       "            background-color: #9d60fb;\n",
       "        }\n",
       "        progress::-moz-progress-bar {\n",
       "            background-color: #9d60fb;\n",
       "        }\n",
       "    </style>\n",
       "    "
      ]
     },
     "metadata": {},
     "output_type": "display_data"
    },
    {
     "data": {
      "text/html": []
     },
     "metadata": {},
     "output_type": "display_data"
    },
    {
     "name": "stderr",
     "output_type": "stream",
     "text": [
      "C:\\Users\\DELL\\AppData\\Local\\Programs\\Python\\Python39\\lib\\site-packages\\deepchecks\\utils\\abstracts\\weak_segment_abstract.py:57: FutureWarning:\n",
      "\n",
      "Setting an item of incompatible dtype is deprecated and will raise in a future error of pandas. Value 'Other' has dtype incompatible with int64, please explicitly cast to a compatible dtype first.\n",
      "\n",
      "deepchecks - WARNING - Could not find model's classes, using the observed classes. In order to make sure the classes used by the model are inferred correctly, please use the model_classes argument\n",
      "C:\\Users\\DELL\\AppData\\Local\\Programs\\Python\\Python39\\lib\\site-packages\\deepchecks\\utils\\abstracts\\weak_segment_abstract.py:57: FutureWarning:\n",
      "\n",
      "Setting an item of incompatible dtype is deprecated and will raise in a future error of pandas. Value 'Other' has dtype incompatible with int64, please explicitly cast to a compatible dtype first.\n",
      "\n"
     ]
    },
    {
     "data": {
      "application/vnd.jupyter.widget-view+json": {
       "model_id": "908452fddf0840e1af917e70ad670fb7",
       "version_major": 2,
       "version_minor": 0
      },
      "text/plain": [
       "Accordion(children=(VBox(children=(HTML(value='\\n<h1 id=\"summary_6KGTG3Q1DQGRFGDY1RLSUFVEJ\">Custom Model Evalu…"
      ]
     },
     "metadata": {},
     "output_type": "display_data"
    },
    {
     "name": "stderr",
     "output_type": "stream",
     "text": [
      "deepchecks - WARNING - It is recommended to initialize Dataset with categorical features by doing \"Dataset(df, cat_features=categorical_list)\". No categorical features were passed, therefore heuristically inferring categorical features in the data. 1 categorical features were inferred.: feature3\n",
      "deepchecks - WARNING - It is recommended to initialize Dataset with categorical features by doing \"Dataset(df, cat_features=categorical_list)\". No categorical features were passed, therefore heuristically inferring categorical features in the data. 1 categorical features were inferred.: feature3\n"
     ]
    },
    {
     "name": "stdout",
     "output_type": "stream",
     "text": [
      "Model loaded from model.pkl\n",
      "<class 'numpy.ndarray'>\n",
      "float64\n",
      "[[0.58 0.42]\n",
      " [0.96 0.04]\n",
      " [0.68 0.32]\n",
      " ...\n",
      " [0.16 0.84]\n",
      " [0.3  0.7 ]\n",
      " [0.22 0.78]]\n"
     ]
    },
    {
     "data": {
      "text/html": [
       "\n",
       "    <style>\n",
       "        progress {\n",
       "            -webkit-appearance: none;\n",
       "            border: none;\n",
       "            border-radius: 3px;\n",
       "            width: 300px;\n",
       "            height: 20px;\n",
       "            vertical-align: middle;\n",
       "            margin-right: 10px;\n",
       "            background-color: aliceblue;\n",
       "        }\n",
       "        progress::-webkit-progress-bar {\n",
       "            border-radius: 3px;\n",
       "            background-color: aliceblue;\n",
       "        }\n",
       "        progress::-webkit-progress-value {\n",
       "            background-color: #9d60fb;\n",
       "        }\n",
       "        progress::-moz-progress-bar {\n",
       "            background-color: #9d60fb;\n",
       "        }\n",
       "    </style>\n",
       "    "
      ]
     },
     "metadata": {},
     "output_type": "display_data"
    },
    {
     "data": {
      "text/html": []
     },
     "metadata": {},
     "output_type": "display_data"
    },
    {
     "name": "stderr",
     "output_type": "stream",
     "text": [
      "C:\\Users\\DELL\\AppData\\Local\\Programs\\Python\\Python39\\lib\\site-packages\\deepchecks\\utils\\abstracts\\weak_segment_abstract.py:57: FutureWarning:\n",
      "\n",
      "Setting an item of incompatible dtype is deprecated and will raise in a future error of pandas. Value 'Other' has dtype incompatible with int64, please explicitly cast to a compatible dtype first.\n",
      "\n",
      "C:\\Users\\DELL\\AppData\\Local\\Programs\\Python\\Python39\\lib\\site-packages\\deepchecks\\utils\\abstracts\\weak_segment_abstract.py:57: FutureWarning:\n",
      "\n",
      "Setting an item of incompatible dtype is deprecated and will raise in a future error of pandas. Value 'Other' has dtype incompatible with int64, please explicitly cast to a compatible dtype first.\n",
      "\n"
     ]
    },
    {
     "data": {
      "application/vnd.jupyter.widget-view+json": {
       "model_id": "ee3714cd0a6345469c901e2d3cf0f110",
       "version_major": 2,
       "version_minor": 0
      },
      "text/plain": [
       "Accordion(children=(VBox(children=(HTML(value='\\n<h1 id=\"summary_KQZDDZ34WYG4Q2P99A22EBMLJ\">Custom Model Evalu…"
      ]
     },
     "metadata": {},
     "output_type": "display_data"
    }
   ],
   "source": [
    "run_model_evaluation(train_df, test_df, label, model_eval_checks, model_eval_params, prediction_label_column, prediction_proba_col, model_file)"
   ]
  },
  {
   "cell_type": "code",
   "execution_count": null,
   "id": "692a2347-f068-4f3b-98de-d8dc6b389ec0",
   "metadata": {},
   "outputs": [],
   "source": []
  },
  {
   "cell_type": "code",
   "execution_count": 12,
   "id": "6a5afd53-6312-43b9-b263-d8d27b425bb9",
   "metadata": {},
   "outputs": [
    {
     "data": {
      "text/html": [
       "<h4><b>Dataset Description</b></h4><div>\n",
       "<style scoped>\n",
       "    .dataframe tbody tr th:only-of-type {\n",
       "        vertical-align: middle;\n",
       "    }\n",
       "\n",
       "    .dataframe tbody tr th {\n",
       "        vertical-align: top;\n",
       "    }\n",
       "\n",
       "    .dataframe thead th {\n",
       "        text-align: right;\n",
       "    }\n",
       "</style>\n",
       "<table border=\"1\" class=\"dataframe\">\n",
       "  <thead>\n",
       "    <tr style=\"text-align: right;\">\n",
       "      <th style=\"min-width: 15px;\"></th>\n",
       "      <th style=\"min-width: 15px;\">Column</th>\n",
       "      <th style=\"min-width: 15px;\">DType</th>\n",
       "      <th style=\"min-width: 15px;\">Kind</th>\n",
       "      <th style=\"min-width: 15px;\">Additional Info</th>\n",
       "    </tr>\n",
       "  </thead>\n",
       "  <tbody>\n",
       "    <tr>\n",
       "      <th>0</th>\n",
       "      <td>income</td>\n",
       "      <td>string</td>\n",
       "      <td></td>\n",
       "      <td></td>\n",
       "    </tr>\n",
       "    <tr>\n",
       "      <th>1</th>\n",
       "      <td>age</td>\n",
       "      <td>integer</td>\n",
       "      <td>Numerical Feature</td>\n",
       "      <td></td>\n",
       "    </tr>\n",
       "    <tr>\n",
       "      <th>2</th>\n",
       "      <td>workclass</td>\n",
       "      <td>string</td>\n",
       "      <td>Categorical Feature</td>\n",
       "      <td></td>\n",
       "    </tr>\n",
       "    <tr>\n",
       "      <th>3</th>\n",
       "      <td>fnlwgt</td>\n",
       "      <td>integer</td>\n",
       "      <td>Numerical Feature</td>\n",
       "      <td></td>\n",
       "    </tr>\n",
       "    <tr>\n",
       "      <th>4</th>\n",
       "      <td>education</td>\n",
       "      <td>string</td>\n",
       "      <td>Categorical Feature</td>\n",
       "      <td></td>\n",
       "    </tr>\n",
       "    <tr>\n",
       "      <th>5</th>\n",
       "      <td>education-num</td>\n",
       "      <td>integer</td>\n",
       "      <td>Numerical Feature</td>\n",
       "      <td></td>\n",
       "    </tr>\n",
       "    <tr>\n",
       "      <th>6</th>\n",
       "      <td>marital-status</td>\n",
       "      <td>string</td>\n",
       "      <td>Categorical Feature</td>\n",
       "      <td></td>\n",
       "    </tr>\n",
       "    <tr>\n",
       "      <th>7</th>\n",
       "      <td>occupation</td>\n",
       "      <td>string</td>\n",
       "      <td>Categorical Feature</td>\n",
       "      <td></td>\n",
       "    </tr>\n",
       "    <tr>\n",
       "      <th>8</th>\n",
       "      <td>relationship</td>\n",
       "      <td>string</td>\n",
       "      <td>Categorical Feature</td>\n",
       "      <td></td>\n",
       "    </tr>\n",
       "    <tr>\n",
       "      <th>9</th>\n",
       "      <td>race</td>\n",
       "      <td>string</td>\n",
       "      <td>Categorical Feature</td>\n",
       "      <td></td>\n",
       "    </tr>\n",
       "    <tr>\n",
       "      <th>10</th>\n",
       "      <td>sex</td>\n",
       "      <td>string</td>\n",
       "      <td>Categorical Feature</td>\n",
       "      <td></td>\n",
       "    </tr>\n",
       "    <tr>\n",
       "      <th>11</th>\n",
       "      <td>capital-gain</td>\n",
       "      <td>integer</td>\n",
       "      <td>Numerical Feature</td>\n",
       "      <td></td>\n",
       "    </tr>\n",
       "    <tr>\n",
       "      <th>12</th>\n",
       "      <td>capital-loss</td>\n",
       "      <td>integer</td>\n",
       "      <td>Numerical Feature</td>\n",
       "      <td></td>\n",
       "    </tr>\n",
       "    <tr>\n",
       "      <th>13</th>\n",
       "      <td>hours-per-week</td>\n",
       "      <td>integer</td>\n",
       "      <td>Numerical Feature</td>\n",
       "      <td></td>\n",
       "    </tr>\n",
       "    <tr>\n",
       "      <th>14</th>\n",
       "      <td>native-country</td>\n",
       "      <td>string</td>\n",
       "      <td>Categorical Feature</td>\n",
       "      <td></td>\n",
       "    </tr>\n",
       "  </tbody>\n",
       "</table>\n",
       "</div><h4><b>Dataset Content</b></h4><div>\n",
       "<style scoped>\n",
       "    .dataframe tbody tr th:only-of-type {\n",
       "        vertical-align: middle;\n",
       "    }\n",
       "\n",
       "    .dataframe tbody tr th {\n",
       "        vertical-align: top;\n",
       "    }\n",
       "\n",
       "    .dataframe thead th {\n",
       "        text-align: right;\n",
       "    }\n",
       "</style>\n",
       "<table border=\"1\" class=\"dataframe\">\n",
       "  <thead>\n",
       "    <tr style=\"text-align: right;\">\n",
       "      <th style=\"min-width: 15px;\"></th>\n",
       "      <th style=\"min-width: 15px;\">income</th>\n",
       "      <th style=\"min-width: 15px;\">age</th>\n",
       "      <th style=\"min-width: 15px;\">workclass</th>\n",
       "      <th style=\"min-width: 15px;\">fnlwgt</th>\n",
       "      <th>...</th>\n",
       "      <th style=\"min-width: 15px;\">capital-gain</th>\n",
       "      <th style=\"min-width: 15px;\">capital-loss</th>\n",
       "      <th style=\"min-width: 15px;\">hours-per-week</th>\n",
       "      <th style=\"min-width: 15px;\">native-country</th>\n",
       "    </tr>\n",
       "  </thead>\n",
       "  <tbody>\n",
       "    <tr>\n",
       "      <th>0</th>\n",
       "      <td>&lt;=50K</td>\n",
       "      <td>25</td>\n",
       "      <td>Private</td>\n",
       "      <td>226802</td>\n",
       "      <td>...</td>\n",
       "      <td>0</td>\n",
       "      <td>0</td>\n",
       "      <td>40</td>\n",
       "      <td>United-States</td>\n",
       "    </tr>\n",
       "    <tr>\n",
       "      <th>1</th>\n",
       "      <td>&lt;=50K</td>\n",
       "      <td>38</td>\n",
       "      <td>Private</td>\n",
       "      <td>89814</td>\n",
       "      <td>...</td>\n",
       "      <td>0</td>\n",
       "      <td>0</td>\n",
       "      <td>50</td>\n",
       "      <td>United-States</td>\n",
       "    </tr>\n",
       "    <tr>\n",
       "      <th>2</th>\n",
       "      <td>&gt;50K</td>\n",
       "      <td>28</td>\n",
       "      <td>Local-gov</td>\n",
       "      <td>336951</td>\n",
       "      <td>...</td>\n",
       "      <td>0</td>\n",
       "      <td>0</td>\n",
       "      <td>40</td>\n",
       "      <td>United-States</td>\n",
       "    </tr>\n",
       "    <tr>\n",
       "      <th>3</th>\n",
       "      <td>&gt;50K</td>\n",
       "      <td>44</td>\n",
       "      <td>Private</td>\n",
       "      <td>160323</td>\n",
       "      <td>...</td>\n",
       "      <td>7688</td>\n",
       "      <td>0</td>\n",
       "      <td>40</td>\n",
       "      <td>United-States</td>\n",
       "    </tr>\n",
       "    <tr>\n",
       "      <th>4</th>\n",
       "      <td>&lt;=50K</td>\n",
       "      <td>18</td>\n",
       "      <td>?</td>\n",
       "      <td>103497</td>\n",
       "      <td>...</td>\n",
       "      <td>0</td>\n",
       "      <td>0</td>\n",
       "      <td>30</td>\n",
       "      <td>United-States</td>\n",
       "    </tr>\n",
       "    <tr>\n",
       "      <th>...</th>\n",
       "      <td>...</td>\n",
       "      <td>...</td>\n",
       "      <td>...</td>\n",
       "      <td>...</td>\n",
       "      <td>...</td>\n",
       "      <td>...</td>\n",
       "      <td>...</td>\n",
       "      <td>...</td>\n",
       "      <td>...</td>\n",
       "    </tr>\n",
       "    <tr>\n",
       "      <th>16276</th>\n",
       "      <td>&lt;=50K</td>\n",
       "      <td>39</td>\n",
       "      <td>Private</td>\n",
       "      <td>215419</td>\n",
       "      <td>...</td>\n",
       "      <td>0</td>\n",
       "      <td>0</td>\n",
       "      <td>36</td>\n",
       "      <td>United-States</td>\n",
       "    </tr>\n",
       "    <tr>\n",
       "      <th>16277</th>\n",
       "      <td>&lt;=50K</td>\n",
       "      <td>64</td>\n",
       "      <td>?</td>\n",
       "      <td>321403</td>\n",
       "      <td>...</td>\n",
       "      <td>0</td>\n",
       "      <td>0</td>\n",
       "      <td>40</td>\n",
       "      <td>United-States</td>\n",
       "    </tr>\n",
       "    <tr>\n",
       "      <th>16278</th>\n",
       "      <td>&lt;=50K</td>\n",
       "      <td>38</td>\n",
       "      <td>Private</td>\n",
       "      <td>374983</td>\n",
       "      <td>...</td>\n",
       "      <td>0</td>\n",
       "      <td>0</td>\n",
       "      <td>50</td>\n",
       "      <td>United-States</td>\n",
       "    </tr>\n",
       "    <tr>\n",
       "      <th>16279</th>\n",
       "      <td>&lt;=50K</td>\n",
       "      <td>44</td>\n",
       "      <td>Private</td>\n",
       "      <td>83891</td>\n",
       "      <td>...</td>\n",
       "      <td>5455</td>\n",
       "      <td>0</td>\n",
       "      <td>40</td>\n",
       "      <td>United-States</td>\n",
       "    </tr>\n",
       "    <tr>\n",
       "      <th>16280</th>\n",
       "      <td>&gt;50K</td>\n",
       "      <td>35</td>\n",
       "      <td>Self-emp-inc</td>\n",
       "      <td>182148</td>\n",
       "      <td>...</td>\n",
       "      <td>0</td>\n",
       "      <td>0</td>\n",
       "      <td>60</td>\n",
       "      <td>United-States</td>\n",
       "    </tr>\n",
       "  </tbody>\n",
       "</table>\n",
       "</div>"
      ]
     },
     "metadata": {},
     "output_type": "display_data"
    }
   ],
   "source": [
    "from sklearn.preprocessing import LabelEncoder\n",
    "\n",
    "from deepchecks.tabular.checks import PredictionDrift\n",
    "from deepchecks.tabular.datasets.classification import adult\n",
    "\n",
    "\n",
    "label_name = 'income'\n",
    "train_ds, test_ds = adult.load_data()\n",
    "\n",
    "test_ds.data['education-num'] = 13\n",
    "test_ds.data['education'] = ' Bachelors'\n",
    "\n",
    "test_ds"
   ]
  },
  {
   "cell_type": "code",
   "execution_count": 13,
   "id": "ba33033f-8de1-40d6-92e1-075805b75cb2",
   "metadata": {},
   "outputs": [],
   "source": [
    "from sklearn.compose import ColumnTransformer\n",
    "from sklearn.ensemble import RandomForestClassifier\n",
    "from sklearn.impute import SimpleImputer\n",
    "from sklearn.pipeline import Pipeline\n",
    "from sklearn.preprocessing import OrdinalEncoder\n",
    "\n",
    "numeric_transformer = SimpleImputer()\n",
    "categorical_transformer = Pipeline(\n",
    "    steps=[(\"imputer\", SimpleImputer(strategy=\"most_frequent\")), (\"encoder\", OrdinalEncoder())]\n",
    ")\n",
    "\n",
    "train_ds.features\n",
    "preprocessor = ColumnTransformer(\n",
    "    transformers=[\n",
    "        (\"num\", numeric_transformer, train_ds.numerical_features),\n",
    "        (\"cat\", categorical_transformer, train_ds.cat_features),\n",
    "    ]\n",
    ")\n",
    "\n",
    "model = Pipeline(steps=[(\"preprocessing\", preprocessor), (\"model\", RandomForestClassifier(max_depth=5, n_jobs=-1))])\n",
    "model = model.fit(train_ds.data[train_ds.features], train_ds.data[train_ds.label_name])"
   ]
  },
  {
   "cell_type": "code",
   "execution_count": 14,
   "id": "daeee1ea-17a1-4eef-87f9-12b5f9e05ba2",
   "metadata": {},
   "outputs": [
    {
     "data": {
      "application/vnd.jupyter.widget-view+json": {
       "model_id": "cc3924689cb74659b1f07bc611ed6aa6",
       "version_major": 2,
       "version_minor": 0
      },
      "text/plain": [
       "VBox(children=(HTML(value='<h4><b>Prediction Drift</b></h4>'), HTML(value='<p>    Calculate prediction drift b…"
      ]
     },
     "metadata": {},
     "output_type": "display_data"
    }
   ],
   "source": [
    "check = PredictionDrift()\n",
    "result = check.run(train_dataset=train_ds, test_dataset=test_ds, model=model)\n",
    "result"
   ]
  },
  {
   "cell_type": "code",
   "execution_count": 15,
   "id": "3bf21a0f-c6b0-4803-a9fb-2b1ffb6d610d",
   "metadata": {},
   "outputs": [
    {
     "ename": "DeepchecksValueError",
     "evalue": "Cannot calculate permutation feature importance on a pandas Dataframe. In order to force permutation feature importance, please use the Dataset object.",
     "output_type": "error",
     "traceback": [
      "\u001b[1;31m---------------------------------------------------------------------------\u001b[0m",
      "\u001b[1;31mDeepchecksValueError\u001b[0m                      Traceback (most recent call last)",
      "Cell \u001b[1;32mIn[15], line 4\u001b[0m\n\u001b[0;32m      1\u001b[0m \u001b[38;5;28;01mfrom\u001b[39;00m \u001b[38;5;21;01mdeepchecks\u001b[39;00m\u001b[38;5;21;01m.\u001b[39;00m\u001b[38;5;21;01mtabular\u001b[39;00m\u001b[38;5;21;01m.\u001b[39;00m\u001b[38;5;21;01mfeature_importance\u001b[39;00m \u001b[38;5;28;01mimport\u001b[39;00m calculate_feature_importance\n\u001b[1;32m----> 4\u001b[0m fi \u001b[38;5;241m=\u001b[39m \u001b[43mcalculate_feature_importance\u001b[49m\u001b[43m(\u001b[49m\u001b[43mmodel\u001b[49m\u001b[43m,\u001b[49m\u001b[43m \u001b[49m\u001b[43mtrain_df\u001b[49m\u001b[43m)\u001b[49m\n\u001b[0;32m      5\u001b[0m feature_importance_result \u001b[38;5;241m=\u001b[39m check\u001b[38;5;241m.\u001b[39mrun(train_df, test_df, model, feature_importance\u001b[38;5;241m=\u001b[39mfi)\n\u001b[0;32m      6\u001b[0m result2\u001b[38;5;241m.\u001b[39mshow()\n",
      "File \u001b[1;32m~\\AppData\\Local\\Programs\\Python\\Python39\\lib\\site-packages\\deepchecks\\tabular\\feature_importance.py:100\u001b[0m, in \u001b[0;36mcalculate_feature_importance\u001b[1;34m(model, dataset, n_repeats, mask_high_variance_features, n_samples, alternative_scorer, force_permutation, random_state)\u001b[0m\n\u001b[0;32m     89\u001b[0m permutation_kwargs \u001b[38;5;241m=\u001b[39m {\n\u001b[0;32m     90\u001b[0m     \u001b[38;5;124m'\u001b[39m\u001b[38;5;124mn_repeats\u001b[39m\u001b[38;5;124m'\u001b[39m: n_repeats,\n\u001b[0;32m     91\u001b[0m     \u001b[38;5;124m'\u001b[39m\u001b[38;5;124mmask_high_variance_features\u001b[39m\u001b[38;5;124m'\u001b[39m: mask_high_variance_features,\n\u001b[1;32m   (...)\u001b[0m\n\u001b[0;32m     96\u001b[0m     \u001b[38;5;124m'\u001b[39m\u001b[38;5;124mtimeout\u001b[39m\u001b[38;5;124m'\u001b[39m: \u001b[38;5;28;01mNone\u001b[39;00m\n\u001b[0;32m     97\u001b[0m }\n\u001b[0;32m     99\u001b[0m \u001b[38;5;28;01mif\u001b[39;00m \u001b[38;5;28misinstance\u001b[39m(dataset, pd\u001b[38;5;241m.\u001b[39mDataFrame):\n\u001b[1;32m--> 100\u001b[0m     \u001b[38;5;28;01mraise\u001b[39;00m DeepchecksValueError(\u001b[38;5;124m'\u001b[39m\u001b[38;5;124mCannot calculate permutation feature importance on a pandas Dataframe. \u001b[39m\u001b[38;5;124m'\u001b[39m\n\u001b[0;32m    101\u001b[0m                                \u001b[38;5;124m'\u001b[39m\u001b[38;5;124mIn order to force permutation feature importance, please use the Dataset\u001b[39m\u001b[38;5;124m'\u001b[39m\n\u001b[0;32m    102\u001b[0m                                \u001b[38;5;124m'\u001b[39m\u001b[38;5;124m object.\u001b[39m\u001b[38;5;124m'\u001b[39m)\n\u001b[0;32m    104\u001b[0m model_classes \u001b[38;5;241m=\u001b[39m infer_classes_from_model(model)\n\u001b[0;32m    105\u001b[0m labels \u001b[38;5;241m=\u001b[39m get_all_labels(model, dataset)\n",
      "\u001b[1;31mDeepchecksValueError\u001b[0m: Cannot calculate permutation feature importance on a pandas Dataframe. In order to force permutation feature importance, please use the Dataset object."
     ]
    }
   ],
   "source": [
    "from deepchecks.tabular.feature_importance import calculate_feature_importance\n",
    "\n",
    "\n",
    "fi = calculate_feature_importance(model, train_df)\n",
    "feature_importance_result = check.run(train_df, test_df, model, feature_importance=fi)\n",
    "result2.show()\n",
    "result2.save_as_html('Model_Eval_Results - Trained Model File.html')\n"
   ]
  },
  {
   "cell_type": "code",
   "execution_count": null,
   "id": "1f540e04-88c7-4901-835d-92aef1ca959e",
   "metadata": {},
   "outputs": [],
   "source": []
  },
  {
   "cell_type": "code",
   "execution_count": null,
   "id": "480a01c6-aa09-4628-bdf1-8a34990f04b7",
   "metadata": {},
   "outputs": [],
   "source": []
  },
  {
   "cell_type": "code",
   "execution_count": null,
   "id": "116a5657-1af9-409d-9208-a26520e27a9d",
   "metadata": {},
   "outputs": [],
   "source": []
  }
 ],
 "metadata": {
  "kernelspec": {
   "display_name": "Python 3 (ipykernel)",
   "language": "python",
   "name": "python3"
  },
  "language_info": {
   "codemirror_mode": {
    "name": "ipython",
    "version": 3
   },
   "file_extension": ".py",
   "mimetype": "text/x-python",
   "name": "python",
   "nbconvert_exporter": "python",
   "pygments_lexer": "ipython3",
   "version": "3.9.12"
  }
 },
 "nbformat": 4,
 "nbformat_minor": 5
}
